{
  "cells": [
    {
      "cell_type": "code",
      "execution_count": 46,
      "metadata": {
        "id": "mUd9gvcK3vpl"
      },
      "outputs": [],
      "source": [
        "#Import libraries \n",
        "\n",
        "import numpy as np\n",
        "import pandas as pd\n",
        "import matplotlib.pyplot as plt\n",
        "import seaborn as sns\n",
        "from plotnine import *\n",
        "from sklearn.model_selection import train_test_split\n",
        "from sklearn.linear_model import LinearRegression\n",
        "from sklearn.metrics import accuracy_score\n",
        "from sklearn.metrics import mean_absolute_error, mean_absolute_percentage_error, mean_squared_error, mean_squared_log_error\n",
        "# calculate mean_squared_error\n",
        "import sklearn.metrics as metrics\n",
        "from sklearn.metrics import mean_squared_error"
      ]
    },
    {
      "cell_type": "markdown",
      "metadata": {
        "id": "XRJ--lqS3vpo"
      },
      "source": [
        "> **1. Introduction**"
      ]
    },
    {
      "cell_type": "markdown",
      "metadata": {
        "id": "fUy5pfmk3vpt"
      },
      "source": [
        "**Objective**\n",
        "\n",
        "This dataset contains the information about the movies . For a movie to be commercial success , it depends on various factors like director, actors ,critic reviews and viewers reaction. Imdb score is one of the important factor to measure the movie's success. "
      ]
    },
    {
      "cell_type": "markdown",
      "metadata": {
        "id": "4A5hM2Ss3vpu"
      },
      "source": [
        "**Description of dataset attributes**"
      ]
    },
    {
      "cell_type": "markdown",
      "metadata": {
        "id": "6Fu3C3u_3vpx"
      },
      "source": [
        "Please find the details for the datset attributes:-\n",
        "\n",
        "1. Color :- Movie is black or coloured\n",
        "2. Director_name:- Name of the movie director\n",
        "3. num_critic_for_reviews :- No of critics for the movie\n",
        "4. duration:- movie duration in minutes\n",
        "5. director_facebook_likes:-Number of likes for the Director on his Facebook Page\n",
        "6. actor_3_facebook_likes:- No of likes for the actor 3 on his/her facebook Page\n",
        "7. actor2_name:- name of the actor 2\n",
        "8. actor_1_facebook_likes:- No of likes for the actor 1 on his/her facebook Page\n",
        "9. gross:- Gross earnings of the movie in Dollars\n",
        "10. genres:- Film categorization like ‘Animation’, ‘Comedy’, ‘Romance’, ‘Horror’, ‘Sci-Fi’, ‘Action’, ‘Family’\n",
        "11. actor_1_name:- Name of the actor 1\n",
        "12. movie_title:-Title of the movie\n",
        "13. num_voted_users:-No of people who voted for the movie\n",
        "14. cast_total_facebook_likes:- Total facebook like for the movie\n",
        "15. actor_3_name:- Name of the actor 3\n",
        "16. facenumber_in_poster:- No of actors who featured in the movie poster\n",
        "17. plot_keywords:-Keywords describing the movie plots\n",
        "18. movie_imdb_link:-Link of the movie link\n",
        "19. num_user_for_reviews:- Number of users who gave a review\n",
        "20. language:- Language of the movie \n",
        "21. country:- Country where movie is produced\n",
        "22. content_rating:- Content rating of the movie\n",
        "23. budget:- Budget of the movie in Dollars\n",
        "24. title_year:- The year in which the movie is released\n",
        "25. actor_2_facebook_likes:- facebook likes for the actor 2\n",
        "26. imdb_score:- IMDB score of the movie\n",
        "27. aspect_ratio :- Aspect ratio the movie was made in\n",
        "28. movie_facebook_likes:- Total no of facebook likes for the movie\n",
        "    "
      ]
    },
    {
      "cell_type": "markdown",
      "metadata": {
        "id": "yLAgkPP93vp7"
      },
      "source": [
        "**Case Study**\n",
        "\n",
        "\n",
        "The dataset here gives the massive information about the movies and their IMDB scores respectively. We are going to analyze each and every factors which can influence the imdb ratings so that we can predict better results.The movie with the higher imdb score is more successful as compared to the movies with low imdb score. "
      ]
    },
    {
      "cell_type": "markdown",
      "metadata": {
        "id": "Sv0I2KsT3vp8"
      },
      "source": [
        "**2. Data Preprocessing**"
      ]
    },
    {
      "cell_type": "code",
      "execution_count": 47,
      "metadata": {
        "id": "14Lzm3ux3vp9"
      },
      "outputs": [],
      "source": [
        "#Reading the Data \n",
        "\n",
        "data=pd.read_csv(\"movie_metadata.csv\")"
      ]
    },
    {
      "cell_type": "code",
      "execution_count": 48,
      "metadata": {
        "colab": {
          "base_uri": "https://localhost:8080/",
          "height": 560
        },
        "id": "jZgXoK3f3vp-",
        "outputId": "10fbcde7-cf99-4930-e36d-f70818556d36"
      },
      "outputs": [
        {
          "data": {
            "text/html": [
              "<div>\n",
              "<style scoped>\n",
              "    .dataframe tbody tr th:only-of-type {\n",
              "        vertical-align: middle;\n",
              "    }\n",
              "\n",
              "    .dataframe tbody tr th {\n",
              "        vertical-align: top;\n",
              "    }\n",
              "\n",
              "    .dataframe thead th {\n",
              "        text-align: right;\n",
              "    }\n",
              "</style>\n",
              "<table border=\"1\" class=\"dataframe\">\n",
              "  <thead>\n",
              "    <tr style=\"text-align: right;\">\n",
              "      <th></th>\n",
              "      <th>color</th>\n",
              "      <th>director_name</th>\n",
              "      <th>num_critic_for_reviews</th>\n",
              "      <th>duration</th>\n",
              "      <th>director_facebook_likes</th>\n",
              "      <th>actor_3_facebook_likes</th>\n",
              "      <th>actor_2_name</th>\n",
              "      <th>actor_1_facebook_likes</th>\n",
              "      <th>gross</th>\n",
              "      <th>genres</th>\n",
              "      <th>...</th>\n",
              "      <th>num_user_for_reviews</th>\n",
              "      <th>language</th>\n",
              "      <th>country</th>\n",
              "      <th>content_rating</th>\n",
              "      <th>budget</th>\n",
              "      <th>title_year</th>\n",
              "      <th>actor_2_facebook_likes</th>\n",
              "      <th>imdb_score</th>\n",
              "      <th>aspect_ratio</th>\n",
              "      <th>movie_facebook_likes</th>\n",
              "    </tr>\n",
              "  </thead>\n",
              "  <tbody>\n",
              "    <tr>\n",
              "      <th>0</th>\n",
              "      <td>Color</td>\n",
              "      <td>James Cameron</td>\n",
              "      <td>723.0</td>\n",
              "      <td>178.0</td>\n",
              "      <td>0.0</td>\n",
              "      <td>855.0</td>\n",
              "      <td>Joel David Moore</td>\n",
              "      <td>1000.0</td>\n",
              "      <td>760505847.0</td>\n",
              "      <td>Action|Adventure|Fantasy|Sci-Fi</td>\n",
              "      <td>...</td>\n",
              "      <td>3054.0</td>\n",
              "      <td>English</td>\n",
              "      <td>USA</td>\n",
              "      <td>PG-13</td>\n",
              "      <td>237000000.0</td>\n",
              "      <td>2009.0</td>\n",
              "      <td>936.0</td>\n",
              "      <td>7.9</td>\n",
              "      <td>1.78</td>\n",
              "      <td>33000</td>\n",
              "    </tr>\n",
              "    <tr>\n",
              "      <th>1</th>\n",
              "      <td>Color</td>\n",
              "      <td>Gore Verbinski</td>\n",
              "      <td>302.0</td>\n",
              "      <td>169.0</td>\n",
              "      <td>563.0</td>\n",
              "      <td>1000.0</td>\n",
              "      <td>Orlando Bloom</td>\n",
              "      <td>40000.0</td>\n",
              "      <td>309404152.0</td>\n",
              "      <td>Action|Adventure|Fantasy</td>\n",
              "      <td>...</td>\n",
              "      <td>1238.0</td>\n",
              "      <td>English</td>\n",
              "      <td>USA</td>\n",
              "      <td>PG-13</td>\n",
              "      <td>300000000.0</td>\n",
              "      <td>2007.0</td>\n",
              "      <td>5000.0</td>\n",
              "      <td>7.1</td>\n",
              "      <td>2.35</td>\n",
              "      <td>0</td>\n",
              "    </tr>\n",
              "    <tr>\n",
              "      <th>2</th>\n",
              "      <td>Color</td>\n",
              "      <td>Sam Mendes</td>\n",
              "      <td>602.0</td>\n",
              "      <td>148.0</td>\n",
              "      <td>0.0</td>\n",
              "      <td>161.0</td>\n",
              "      <td>Rory Kinnear</td>\n",
              "      <td>11000.0</td>\n",
              "      <td>200074175.0</td>\n",
              "      <td>Action|Adventure|Thriller</td>\n",
              "      <td>...</td>\n",
              "      <td>994.0</td>\n",
              "      <td>English</td>\n",
              "      <td>UK</td>\n",
              "      <td>PG-13</td>\n",
              "      <td>245000000.0</td>\n",
              "      <td>2015.0</td>\n",
              "      <td>393.0</td>\n",
              "      <td>6.8</td>\n",
              "      <td>2.35</td>\n",
              "      <td>85000</td>\n",
              "    </tr>\n",
              "    <tr>\n",
              "      <th>3</th>\n",
              "      <td>Color</td>\n",
              "      <td>Christopher Nolan</td>\n",
              "      <td>813.0</td>\n",
              "      <td>164.0</td>\n",
              "      <td>22000.0</td>\n",
              "      <td>23000.0</td>\n",
              "      <td>Christian Bale</td>\n",
              "      <td>27000.0</td>\n",
              "      <td>448130642.0</td>\n",
              "      <td>Action|Thriller</td>\n",
              "      <td>...</td>\n",
              "      <td>2701.0</td>\n",
              "      <td>English</td>\n",
              "      <td>USA</td>\n",
              "      <td>PG-13</td>\n",
              "      <td>250000000.0</td>\n",
              "      <td>2012.0</td>\n",
              "      <td>23000.0</td>\n",
              "      <td>8.5</td>\n",
              "      <td>2.35</td>\n",
              "      <td>164000</td>\n",
              "    </tr>\n",
              "    <tr>\n",
              "      <th>4</th>\n",
              "      <td>NaN</td>\n",
              "      <td>Doug Walker</td>\n",
              "      <td>NaN</td>\n",
              "      <td>NaN</td>\n",
              "      <td>131.0</td>\n",
              "      <td>NaN</td>\n",
              "      <td>Rob Walker</td>\n",
              "      <td>131.0</td>\n",
              "      <td>NaN</td>\n",
              "      <td>Documentary</td>\n",
              "      <td>...</td>\n",
              "      <td>NaN</td>\n",
              "      <td>NaN</td>\n",
              "      <td>NaN</td>\n",
              "      <td>NaN</td>\n",
              "      <td>NaN</td>\n",
              "      <td>NaN</td>\n",
              "      <td>12.0</td>\n",
              "      <td>7.1</td>\n",
              "      <td>NaN</td>\n",
              "      <td>0</td>\n",
              "    </tr>\n",
              "    <tr>\n",
              "      <th>5</th>\n",
              "      <td>Color</td>\n",
              "      <td>Andrew Stanton</td>\n",
              "      <td>462.0</td>\n",
              "      <td>132.0</td>\n",
              "      <td>475.0</td>\n",
              "      <td>530.0</td>\n",
              "      <td>Samantha Morton</td>\n",
              "      <td>640.0</td>\n",
              "      <td>73058679.0</td>\n",
              "      <td>Action|Adventure|Sci-Fi</td>\n",
              "      <td>...</td>\n",
              "      <td>738.0</td>\n",
              "      <td>English</td>\n",
              "      <td>USA</td>\n",
              "      <td>PG-13</td>\n",
              "      <td>263700000.0</td>\n",
              "      <td>2012.0</td>\n",
              "      <td>632.0</td>\n",
              "      <td>6.6</td>\n",
              "      <td>2.35</td>\n",
              "      <td>24000</td>\n",
              "    </tr>\n",
              "    <tr>\n",
              "      <th>6</th>\n",
              "      <td>Color</td>\n",
              "      <td>Sam Raimi</td>\n",
              "      <td>392.0</td>\n",
              "      <td>156.0</td>\n",
              "      <td>0.0</td>\n",
              "      <td>4000.0</td>\n",
              "      <td>James Franco</td>\n",
              "      <td>24000.0</td>\n",
              "      <td>336530303.0</td>\n",
              "      <td>Action|Adventure|Romance</td>\n",
              "      <td>...</td>\n",
              "      <td>1902.0</td>\n",
              "      <td>English</td>\n",
              "      <td>USA</td>\n",
              "      <td>PG-13</td>\n",
              "      <td>258000000.0</td>\n",
              "      <td>2007.0</td>\n",
              "      <td>11000.0</td>\n",
              "      <td>6.2</td>\n",
              "      <td>2.35</td>\n",
              "      <td>0</td>\n",
              "    </tr>\n",
              "    <tr>\n",
              "      <th>7</th>\n",
              "      <td>Color</td>\n",
              "      <td>Nathan Greno</td>\n",
              "      <td>324.0</td>\n",
              "      <td>100.0</td>\n",
              "      <td>15.0</td>\n",
              "      <td>284.0</td>\n",
              "      <td>Donna Murphy</td>\n",
              "      <td>799.0</td>\n",
              "      <td>200807262.0</td>\n",
              "      <td>Adventure|Animation|Comedy|Family|Fantasy|Musi...</td>\n",
              "      <td>...</td>\n",
              "      <td>387.0</td>\n",
              "      <td>English</td>\n",
              "      <td>USA</td>\n",
              "      <td>PG</td>\n",
              "      <td>260000000.0</td>\n",
              "      <td>2010.0</td>\n",
              "      <td>553.0</td>\n",
              "      <td>7.8</td>\n",
              "      <td>1.85</td>\n",
              "      <td>29000</td>\n",
              "    </tr>\n",
              "    <tr>\n",
              "      <th>8</th>\n",
              "      <td>Color</td>\n",
              "      <td>Joss Whedon</td>\n",
              "      <td>635.0</td>\n",
              "      <td>141.0</td>\n",
              "      <td>0.0</td>\n",
              "      <td>19000.0</td>\n",
              "      <td>Robert Downey Jr.</td>\n",
              "      <td>26000.0</td>\n",
              "      <td>458991599.0</td>\n",
              "      <td>Action|Adventure|Sci-Fi</td>\n",
              "      <td>...</td>\n",
              "      <td>1117.0</td>\n",
              "      <td>English</td>\n",
              "      <td>USA</td>\n",
              "      <td>PG-13</td>\n",
              "      <td>250000000.0</td>\n",
              "      <td>2015.0</td>\n",
              "      <td>21000.0</td>\n",
              "      <td>7.5</td>\n",
              "      <td>2.35</td>\n",
              "      <td>118000</td>\n",
              "    </tr>\n",
              "    <tr>\n",
              "      <th>9</th>\n",
              "      <td>Color</td>\n",
              "      <td>David Yates</td>\n",
              "      <td>375.0</td>\n",
              "      <td>153.0</td>\n",
              "      <td>282.0</td>\n",
              "      <td>10000.0</td>\n",
              "      <td>Daniel Radcliffe</td>\n",
              "      <td>25000.0</td>\n",
              "      <td>301956980.0</td>\n",
              "      <td>Adventure|Family|Fantasy|Mystery</td>\n",
              "      <td>...</td>\n",
              "      <td>973.0</td>\n",
              "      <td>English</td>\n",
              "      <td>UK</td>\n",
              "      <td>PG</td>\n",
              "      <td>250000000.0</td>\n",
              "      <td>2009.0</td>\n",
              "      <td>11000.0</td>\n",
              "      <td>7.5</td>\n",
              "      <td>2.35</td>\n",
              "      <td>10000</td>\n",
              "    </tr>\n",
              "  </tbody>\n",
              "</table>\n",
              "<p>10 rows × 28 columns</p>\n",
              "</div>"
            ],
            "text/plain": [
              "   color      director_name  num_critic_for_reviews  duration  \\\n",
              "0  Color      James Cameron                   723.0     178.0   \n",
              "1  Color     Gore Verbinski                   302.0     169.0   \n",
              "2  Color         Sam Mendes                   602.0     148.0   \n",
              "3  Color  Christopher Nolan                   813.0     164.0   \n",
              "4    NaN        Doug Walker                     NaN       NaN   \n",
              "5  Color     Andrew Stanton                   462.0     132.0   \n",
              "6  Color          Sam Raimi                   392.0     156.0   \n",
              "7  Color       Nathan Greno                   324.0     100.0   \n",
              "8  Color        Joss Whedon                   635.0     141.0   \n",
              "9  Color        David Yates                   375.0     153.0   \n",
              "\n",
              "   director_facebook_likes  actor_3_facebook_likes       actor_2_name  \\\n",
              "0                      0.0                   855.0   Joel David Moore   \n",
              "1                    563.0                  1000.0      Orlando Bloom   \n",
              "2                      0.0                   161.0       Rory Kinnear   \n",
              "3                  22000.0                 23000.0     Christian Bale   \n",
              "4                    131.0                     NaN         Rob Walker   \n",
              "5                    475.0                   530.0    Samantha Morton   \n",
              "6                      0.0                  4000.0       James Franco   \n",
              "7                     15.0                   284.0       Donna Murphy   \n",
              "8                      0.0                 19000.0  Robert Downey Jr.   \n",
              "9                    282.0                 10000.0   Daniel Radcliffe   \n",
              "\n",
              "   actor_1_facebook_likes        gross  \\\n",
              "0                  1000.0  760505847.0   \n",
              "1                 40000.0  309404152.0   \n",
              "2                 11000.0  200074175.0   \n",
              "3                 27000.0  448130642.0   \n",
              "4                   131.0          NaN   \n",
              "5                   640.0   73058679.0   \n",
              "6                 24000.0  336530303.0   \n",
              "7                   799.0  200807262.0   \n",
              "8                 26000.0  458991599.0   \n",
              "9                 25000.0  301956980.0   \n",
              "\n",
              "                                              genres  ...  \\\n",
              "0                    Action|Adventure|Fantasy|Sci-Fi  ...   \n",
              "1                           Action|Adventure|Fantasy  ...   \n",
              "2                          Action|Adventure|Thriller  ...   \n",
              "3                                    Action|Thriller  ...   \n",
              "4                                        Documentary  ...   \n",
              "5                            Action|Adventure|Sci-Fi  ...   \n",
              "6                           Action|Adventure|Romance  ...   \n",
              "7  Adventure|Animation|Comedy|Family|Fantasy|Musi...  ...   \n",
              "8                            Action|Adventure|Sci-Fi  ...   \n",
              "9                   Adventure|Family|Fantasy|Mystery  ...   \n",
              "\n",
              "  num_user_for_reviews language  country  content_rating       budget  \\\n",
              "0               3054.0  English      USA           PG-13  237000000.0   \n",
              "1               1238.0  English      USA           PG-13  300000000.0   \n",
              "2                994.0  English       UK           PG-13  245000000.0   \n",
              "3               2701.0  English      USA           PG-13  250000000.0   \n",
              "4                  NaN      NaN      NaN             NaN          NaN   \n",
              "5                738.0  English      USA           PG-13  263700000.0   \n",
              "6               1902.0  English      USA           PG-13  258000000.0   \n",
              "7                387.0  English      USA              PG  260000000.0   \n",
              "8               1117.0  English      USA           PG-13  250000000.0   \n",
              "9                973.0  English       UK              PG  250000000.0   \n",
              "\n",
              "   title_year actor_2_facebook_likes imdb_score  aspect_ratio  \\\n",
              "0      2009.0                  936.0        7.9          1.78   \n",
              "1      2007.0                 5000.0        7.1          2.35   \n",
              "2      2015.0                  393.0        6.8          2.35   \n",
              "3      2012.0                23000.0        8.5          2.35   \n",
              "4         NaN                   12.0        7.1           NaN   \n",
              "5      2012.0                  632.0        6.6          2.35   \n",
              "6      2007.0                11000.0        6.2          2.35   \n",
              "7      2010.0                  553.0        7.8          1.85   \n",
              "8      2015.0                21000.0        7.5          2.35   \n",
              "9      2009.0                11000.0        7.5          2.35   \n",
              "\n",
              "  movie_facebook_likes  \n",
              "0                33000  \n",
              "1                    0  \n",
              "2                85000  \n",
              "3               164000  \n",
              "4                    0  \n",
              "5                24000  \n",
              "6                    0  \n",
              "7                29000  \n",
              "8               118000  \n",
              "9                10000  \n",
              "\n",
              "[10 rows x 28 columns]"
            ]
          },
          "execution_count": 48,
          "metadata": {},
          "output_type": "execute_result"
        }
      ],
      "source": [
        "#Displaying the first 10 records\n",
        "\n",
        "data.head(10)"
      ]
    },
    {
      "cell_type": "code",
      "execution_count": 49,
      "metadata": {
        "colab": {
          "base_uri": "https://localhost:8080/"
        },
        "id": "-jXdUqR13vqB",
        "outputId": "582f9f93-3629-44be-bb6b-321299279e2a"
      },
      "outputs": [
        {
          "data": {
            "text/plain": [
              "(5043, 28)"
            ]
          },
          "execution_count": 49,
          "metadata": {},
          "output_type": "execute_result"
        }
      ],
      "source": [
        "#Shape of the dataset (no of rows and no of columns)\n",
        "\n",
        "data.shape"
      ]
    },
    {
      "cell_type": "code",
      "execution_count": 50,
      "metadata": {
        "colab": {
          "base_uri": "https://localhost:8080/"
        },
        "id": "KMInA-lt3vqC",
        "outputId": "abe2bd23-4291-41f8-bf0d-cdc8a0bfef0c"
      },
      "outputs": [
        {
          "name": "stdout",
          "output_type": "stream",
          "text": [
            "<class 'pandas.core.frame.DataFrame'>\n",
            "RangeIndex: 5043 entries, 0 to 5042\n",
            "Data columns (total 28 columns):\n",
            " #   Column                     Non-Null Count  Dtype  \n",
            "---  ------                     --------------  -----  \n",
            " 0   color                      5024 non-null   object \n",
            " 1   director_name              4939 non-null   object \n",
            " 2   num_critic_for_reviews     4993 non-null   float64\n",
            " 3   duration                   5028 non-null   float64\n",
            " 4   director_facebook_likes    4939 non-null   float64\n",
            " 5   actor_3_facebook_likes     5020 non-null   float64\n",
            " 6   actor_2_name               5030 non-null   object \n",
            " 7   actor_1_facebook_likes     5036 non-null   float64\n",
            " 8   gross                      4159 non-null   float64\n",
            " 9   genres                     5043 non-null   object \n",
            " 10  actor_1_name               5036 non-null   object \n",
            " 11  movie_title                5043 non-null   object \n",
            " 12  num_voted_users            5043 non-null   int64  \n",
            " 13  cast_total_facebook_likes  5043 non-null   int64  \n",
            " 14  actor_3_name               5020 non-null   object \n",
            " 15  facenumber_in_poster       5030 non-null   float64\n",
            " 16  plot_keywords              4890 non-null   object \n",
            " 17  movie_imdb_link            5043 non-null   object \n",
            " 18  num_user_for_reviews       5022 non-null   float64\n",
            " 19  language                   5031 non-null   object \n",
            " 20  country                    5038 non-null   object \n",
            " 21  content_rating             4740 non-null   object \n",
            " 22  budget                     4551 non-null   float64\n",
            " 23  title_year                 4935 non-null   float64\n",
            " 24  actor_2_facebook_likes     5030 non-null   float64\n",
            " 25  imdb_score                 5043 non-null   float64\n",
            " 26  aspect_ratio               4714 non-null   float64\n",
            " 27  movie_facebook_likes       5043 non-null   int64  \n",
            "dtypes: float64(13), int64(3), object(12)\n",
            "memory usage: 1.1+ MB\n"
          ]
        }
      ],
      "source": [
        "#Displaying the data type of the dataset attributes \n",
        "data.info()"
      ]
    },
    {
      "cell_type": "code",
      "execution_count": 51,
      "metadata": {
        "colab": {
          "base_uri": "https://localhost:8080/",
          "height": 551
        },
        "id": "YfNFnZup3vqD",
        "outputId": "4047eea3-9859-4532-9e80-ae6ee1b5c4ab"
      },
      "outputs": [
        {
          "data": {
            "text/html": [
              "<div>\n",
              "<style scoped>\n",
              "    .dataframe tbody tr th:only-of-type {\n",
              "        vertical-align: middle;\n",
              "    }\n",
              "\n",
              "    .dataframe tbody tr th {\n",
              "        vertical-align: top;\n",
              "    }\n",
              "\n",
              "    .dataframe thead th {\n",
              "        text-align: right;\n",
              "    }\n",
              "</style>\n",
              "<table border=\"1\" class=\"dataframe\">\n",
              "  <thead>\n",
              "    <tr style=\"text-align: right;\">\n",
              "      <th></th>\n",
              "      <th>count</th>\n",
              "      <th>mean</th>\n",
              "      <th>std</th>\n",
              "      <th>min</th>\n",
              "      <th>25%</th>\n",
              "      <th>50%</th>\n",
              "      <th>75%</th>\n",
              "      <th>max</th>\n",
              "    </tr>\n",
              "  </thead>\n",
              "  <tbody>\n",
              "    <tr>\n",
              "      <th>num_critic_for_reviews</th>\n",
              "      <td>4993.0</td>\n",
              "      <td>1.401943e+02</td>\n",
              "      <td>1.216017e+02</td>\n",
              "      <td>1.00</td>\n",
              "      <td>50.00</td>\n",
              "      <td>110.00</td>\n",
              "      <td>195.00</td>\n",
              "      <td>8.130000e+02</td>\n",
              "    </tr>\n",
              "    <tr>\n",
              "      <th>duration</th>\n",
              "      <td>5028.0</td>\n",
              "      <td>1.072011e+02</td>\n",
              "      <td>2.519744e+01</td>\n",
              "      <td>7.00</td>\n",
              "      <td>93.00</td>\n",
              "      <td>103.00</td>\n",
              "      <td>118.00</td>\n",
              "      <td>5.110000e+02</td>\n",
              "    </tr>\n",
              "    <tr>\n",
              "      <th>director_facebook_likes</th>\n",
              "      <td>4939.0</td>\n",
              "      <td>6.865092e+02</td>\n",
              "      <td>2.813329e+03</td>\n",
              "      <td>0.00</td>\n",
              "      <td>7.00</td>\n",
              "      <td>49.00</td>\n",
              "      <td>194.50</td>\n",
              "      <td>2.300000e+04</td>\n",
              "    </tr>\n",
              "    <tr>\n",
              "      <th>actor_3_facebook_likes</th>\n",
              "      <td>5020.0</td>\n",
              "      <td>6.450098e+02</td>\n",
              "      <td>1.665042e+03</td>\n",
              "      <td>0.00</td>\n",
              "      <td>133.00</td>\n",
              "      <td>371.50</td>\n",
              "      <td>636.00</td>\n",
              "      <td>2.300000e+04</td>\n",
              "    </tr>\n",
              "    <tr>\n",
              "      <th>actor_1_facebook_likes</th>\n",
              "      <td>5036.0</td>\n",
              "      <td>6.560047e+03</td>\n",
              "      <td>1.502076e+04</td>\n",
              "      <td>0.00</td>\n",
              "      <td>614.00</td>\n",
              "      <td>988.00</td>\n",
              "      <td>11000.00</td>\n",
              "      <td>6.400000e+05</td>\n",
              "    </tr>\n",
              "    <tr>\n",
              "      <th>gross</th>\n",
              "      <td>4159.0</td>\n",
              "      <td>4.846841e+07</td>\n",
              "      <td>6.845299e+07</td>\n",
              "      <td>162.00</td>\n",
              "      <td>5340987.50</td>\n",
              "      <td>25517500.00</td>\n",
              "      <td>62309437.50</td>\n",
              "      <td>7.605058e+08</td>\n",
              "    </tr>\n",
              "    <tr>\n",
              "      <th>num_voted_users</th>\n",
              "      <td>5043.0</td>\n",
              "      <td>8.366816e+04</td>\n",
              "      <td>1.384853e+05</td>\n",
              "      <td>5.00</td>\n",
              "      <td>8593.50</td>\n",
              "      <td>34359.00</td>\n",
              "      <td>96309.00</td>\n",
              "      <td>1.689764e+06</td>\n",
              "    </tr>\n",
              "    <tr>\n",
              "      <th>cast_total_facebook_likes</th>\n",
              "      <td>5043.0</td>\n",
              "      <td>9.699064e+03</td>\n",
              "      <td>1.816380e+04</td>\n",
              "      <td>0.00</td>\n",
              "      <td>1411.00</td>\n",
              "      <td>3090.00</td>\n",
              "      <td>13756.50</td>\n",
              "      <td>6.567300e+05</td>\n",
              "    </tr>\n",
              "    <tr>\n",
              "      <th>facenumber_in_poster</th>\n",
              "      <td>5030.0</td>\n",
              "      <td>1.371173e+00</td>\n",
              "      <td>2.013576e+00</td>\n",
              "      <td>0.00</td>\n",
              "      <td>0.00</td>\n",
              "      <td>1.00</td>\n",
              "      <td>2.00</td>\n",
              "      <td>4.300000e+01</td>\n",
              "    </tr>\n",
              "    <tr>\n",
              "      <th>num_user_for_reviews</th>\n",
              "      <td>5022.0</td>\n",
              "      <td>2.727708e+02</td>\n",
              "      <td>3.779829e+02</td>\n",
              "      <td>1.00</td>\n",
              "      <td>65.00</td>\n",
              "      <td>156.00</td>\n",
              "      <td>326.00</td>\n",
              "      <td>5.060000e+03</td>\n",
              "    </tr>\n",
              "    <tr>\n",
              "      <th>budget</th>\n",
              "      <td>4551.0</td>\n",
              "      <td>3.975262e+07</td>\n",
              "      <td>2.061149e+08</td>\n",
              "      <td>218.00</td>\n",
              "      <td>6000000.00</td>\n",
              "      <td>20000000.00</td>\n",
              "      <td>45000000.00</td>\n",
              "      <td>1.221550e+10</td>\n",
              "    </tr>\n",
              "    <tr>\n",
              "      <th>title_year</th>\n",
              "      <td>4935.0</td>\n",
              "      <td>2.002471e+03</td>\n",
              "      <td>1.247460e+01</td>\n",
              "      <td>1916.00</td>\n",
              "      <td>1999.00</td>\n",
              "      <td>2005.00</td>\n",
              "      <td>2011.00</td>\n",
              "      <td>2.016000e+03</td>\n",
              "    </tr>\n",
              "    <tr>\n",
              "      <th>actor_2_facebook_likes</th>\n",
              "      <td>5030.0</td>\n",
              "      <td>1.651754e+03</td>\n",
              "      <td>4.042439e+03</td>\n",
              "      <td>0.00</td>\n",
              "      <td>281.00</td>\n",
              "      <td>595.00</td>\n",
              "      <td>918.00</td>\n",
              "      <td>1.370000e+05</td>\n",
              "    </tr>\n",
              "    <tr>\n",
              "      <th>imdb_score</th>\n",
              "      <td>5043.0</td>\n",
              "      <td>6.442138e+00</td>\n",
              "      <td>1.125116e+00</td>\n",
              "      <td>1.60</td>\n",
              "      <td>5.80</td>\n",
              "      <td>6.60</td>\n",
              "      <td>7.20</td>\n",
              "      <td>9.500000e+00</td>\n",
              "    </tr>\n",
              "    <tr>\n",
              "      <th>aspect_ratio</th>\n",
              "      <td>4714.0</td>\n",
              "      <td>2.220403e+00</td>\n",
              "      <td>1.385113e+00</td>\n",
              "      <td>1.18</td>\n",
              "      <td>1.85</td>\n",
              "      <td>2.35</td>\n",
              "      <td>2.35</td>\n",
              "      <td>1.600000e+01</td>\n",
              "    </tr>\n",
              "    <tr>\n",
              "      <th>movie_facebook_likes</th>\n",
              "      <td>5043.0</td>\n",
              "      <td>7.525965e+03</td>\n",
              "      <td>1.932045e+04</td>\n",
              "      <td>0.00</td>\n",
              "      <td>0.00</td>\n",
              "      <td>166.00</td>\n",
              "      <td>3000.00</td>\n",
              "      <td>3.490000e+05</td>\n",
              "    </tr>\n",
              "  </tbody>\n",
              "</table>\n",
              "</div>"
            ],
            "text/plain": [
              "                            count          mean           std      min  \\\n",
              "num_critic_for_reviews     4993.0  1.401943e+02  1.216017e+02     1.00   \n",
              "duration                   5028.0  1.072011e+02  2.519744e+01     7.00   \n",
              "director_facebook_likes    4939.0  6.865092e+02  2.813329e+03     0.00   \n",
              "actor_3_facebook_likes     5020.0  6.450098e+02  1.665042e+03     0.00   \n",
              "actor_1_facebook_likes     5036.0  6.560047e+03  1.502076e+04     0.00   \n",
              "gross                      4159.0  4.846841e+07  6.845299e+07   162.00   \n",
              "num_voted_users            5043.0  8.366816e+04  1.384853e+05     5.00   \n",
              "cast_total_facebook_likes  5043.0  9.699064e+03  1.816380e+04     0.00   \n",
              "facenumber_in_poster       5030.0  1.371173e+00  2.013576e+00     0.00   \n",
              "num_user_for_reviews       5022.0  2.727708e+02  3.779829e+02     1.00   \n",
              "budget                     4551.0  3.975262e+07  2.061149e+08   218.00   \n",
              "title_year                 4935.0  2.002471e+03  1.247460e+01  1916.00   \n",
              "actor_2_facebook_likes     5030.0  1.651754e+03  4.042439e+03     0.00   \n",
              "imdb_score                 5043.0  6.442138e+00  1.125116e+00     1.60   \n",
              "aspect_ratio               4714.0  2.220403e+00  1.385113e+00     1.18   \n",
              "movie_facebook_likes       5043.0  7.525965e+03  1.932045e+04     0.00   \n",
              "\n",
              "                                  25%          50%          75%           max  \n",
              "num_critic_for_reviews          50.00       110.00       195.00  8.130000e+02  \n",
              "duration                        93.00       103.00       118.00  5.110000e+02  \n",
              "director_facebook_likes          7.00        49.00       194.50  2.300000e+04  \n",
              "actor_3_facebook_likes         133.00       371.50       636.00  2.300000e+04  \n",
              "actor_1_facebook_likes         614.00       988.00     11000.00  6.400000e+05  \n",
              "gross                      5340987.50  25517500.00  62309437.50  7.605058e+08  \n",
              "num_voted_users               8593.50     34359.00     96309.00  1.689764e+06  \n",
              "cast_total_facebook_likes     1411.00      3090.00     13756.50  6.567300e+05  \n",
              "facenumber_in_poster             0.00         1.00         2.00  4.300000e+01  \n",
              "num_user_for_reviews            65.00       156.00       326.00  5.060000e+03  \n",
              "budget                     6000000.00  20000000.00  45000000.00  1.221550e+10  \n",
              "title_year                    1999.00      2005.00      2011.00  2.016000e+03  \n",
              "actor_2_facebook_likes         281.00       595.00       918.00  1.370000e+05  \n",
              "imdb_score                       5.80         6.60         7.20  9.500000e+00  \n",
              "aspect_ratio                     1.85         2.35         2.35  1.600000e+01  \n",
              "movie_facebook_likes             0.00       166.00      3000.00  3.490000e+05  "
            ]
          },
          "execution_count": 51,
          "metadata": {},
          "output_type": "execute_result"
        }
      ],
      "source": [
        "#Five point summary for the numerical columns in the dataset\n",
        "\n",
        "data.describe().T"
      ]
    },
    {
      "cell_type": "code",
      "execution_count": 52,
      "metadata": {
        "id": "fPpG2GMq3vqE"
      },
      "outputs": [],
      "source": [
        "#Dropping the Imdb link from the dataset\n",
        "\n",
        "data.drop('movie_imdb_link', axis=1, inplace=True)"
      ]
    },
    {
      "cell_type": "code",
      "execution_count": 53,
      "metadata": {
        "id": "EsGB_6rX3vqF"
      },
      "outputs": [],
      "source": [
        "#Removing the color section as most of the movies is colored\n",
        "\n",
        "data[\"color\"].value_counts()\n",
        "\n",
        "data.drop('color',axis=1,inplace=True)"
      ]
    },
    {
      "cell_type": "code",
      "execution_count": 54,
      "metadata": {
        "colab": {
          "base_uri": "https://localhost:8080/"
        },
        "id": "FTAuxN1s3vqF",
        "outputId": "2e23e791-86a5-4851-d51d-b5d32835667f"
      },
      "outputs": [
        {
          "data": {
            "text/plain": [
              "Index(['director_name', 'num_critic_for_reviews', 'duration',\n",
              "       'director_facebook_likes', 'actor_3_facebook_likes', 'actor_2_name',\n",
              "       'actor_1_facebook_likes', 'gross', 'genres', 'actor_1_name',\n",
              "       'movie_title', 'num_voted_users', 'cast_total_facebook_likes',\n",
              "       'actor_3_name', 'facenumber_in_poster', 'plot_keywords',\n",
              "       'num_user_for_reviews', 'language', 'country', 'content_rating',\n",
              "       'budget', 'title_year', 'actor_2_facebook_likes', 'imdb_score',\n",
              "       'aspect_ratio', 'movie_facebook_likes'],\n",
              "      dtype='object')"
            ]
          },
          "execution_count": 54,
          "metadata": {},
          "output_type": "execute_result"
        }
      ],
      "source": [
        "#Checking for the columns present in the datset\n",
        "data.columns"
      ]
    },
    {
      "cell_type": "code",
      "execution_count": 55,
      "metadata": {
        "colab": {
          "base_uri": "https://localhost:8080/"
        },
        "id": "8tJDlrfb3vqH",
        "outputId": "54942807-f54a-4d8f-96bc-23ed23ec87d6"
      },
      "outputs": [
        {
          "data": {
            "text/plain": [
              "director_name                104\n",
              "num_critic_for_reviews        50\n",
              "duration                      15\n",
              "director_facebook_likes      104\n",
              "actor_3_facebook_likes        23\n",
              "actor_2_name                  13\n",
              "actor_1_facebook_likes         7\n",
              "gross                        884\n",
              "genres                         0\n",
              "actor_1_name                   7\n",
              "movie_title                    0\n",
              "num_voted_users                0\n",
              "cast_total_facebook_likes      0\n",
              "actor_3_name                  23\n",
              "facenumber_in_poster          13\n",
              "plot_keywords                153\n",
              "num_user_for_reviews          21\n",
              "language                      12\n",
              "country                        5\n",
              "content_rating               303\n",
              "budget                       492\n",
              "title_year                   108\n",
              "actor_2_facebook_likes        13\n",
              "imdb_score                     0\n",
              "aspect_ratio                 329\n",
              "movie_facebook_likes           0\n",
              "dtype: int64"
            ]
          },
          "execution_count": 55,
          "metadata": {},
          "output_type": "execute_result"
        }
      ],
      "source": [
        "#No of the missing values in the dataset\n",
        "\n",
        "data.isna().sum()"
      ]
    },
    {
      "cell_type": "code",
      "execution_count": 56,
      "metadata": {
        "colab": {
          "base_uri": "https://localhost:8080/"
        },
        "id": "5zYhAopu7D6l",
        "outputId": "da143f71-3d72-4b26-8706-c1b9a2bd1e4f"
      },
      "outputs": [
        {
          "data": {
            "text/plain": [
              "Index(['num_critic_for_reviews', 'duration', 'director_facebook_likes',\n",
              "       'actor_3_facebook_likes', 'actor_1_facebook_likes', 'gross',\n",
              "       'num_voted_users', 'cast_total_facebook_likes', 'facenumber_in_poster',\n",
              "       'num_user_for_reviews', 'budget', 'title_year',\n",
              "       'actor_2_facebook_likes', 'imdb_score', 'aspect_ratio',\n",
              "       'movie_facebook_likes'],\n",
              "      dtype='object')"
            ]
          },
          "execution_count": 56,
          "metadata": {},
          "output_type": "execute_result"
        }
      ],
      "source": [
        "# split numerical variables\n",
        "num=data.select_dtypes(exclude=object).columns\n",
        "num"
      ]
    },
    {
      "cell_type": "code",
      "execution_count": 57,
      "metadata": {
        "colab": {
          "base_uri": "https://localhost:8080/"
        },
        "id": "qr7ZemjP7Drv",
        "outputId": "8fdd8031-5038-44fa-ba99-4cca6b3f78ca"
      },
      "outputs": [
        {
          "data": {
            "text/plain": [
              "Index(['director_name', 'actor_2_name', 'genres', 'actor_1_name',\n",
              "       'movie_title', 'actor_3_name', 'plot_keywords', 'language', 'country',\n",
              "       'content_rating'],\n",
              "      dtype='object')"
            ]
          },
          "execution_count": 57,
          "metadata": {},
          "output_type": "execute_result"
        }
      ],
      "source": [
        "# split categorical variables\n",
        "cat=data.select_dtypes(include=object).columns\n",
        "cat"
      ]
    },
    {
      "cell_type": "code",
      "execution_count": 58,
      "metadata": {
        "colab": {
          "base_uri": "https://localhost:8080/"
        },
        "id": "P8gaMjev61Ks",
        "outputId": "a23aae41-5cee-4d71-acf5-9f65f61bc136"
      },
      "outputs": [
        {
          "name": "stdout",
          "output_type": "stream",
          "text": [
            "0       723.0\n",
            "1       302.0\n",
            "2       602.0\n",
            "3       813.0\n",
            "4       110.0\n",
            "        ...  \n",
            "5038      1.0\n",
            "5039     43.0\n",
            "5040     13.0\n",
            "5041     14.0\n",
            "5042     43.0\n",
            "Name: num_critic_for_reviews, Length: 5043, dtype: float64\n",
            "0       178.0\n",
            "1       169.0\n",
            "2       148.0\n",
            "3       164.0\n",
            "4       103.0\n",
            "        ...  \n",
            "5038     87.0\n",
            "5039     43.0\n",
            "5040     76.0\n",
            "5041    100.0\n",
            "5042     90.0\n",
            "Name: duration, Length: 5043, dtype: float64\n",
            "0           0.0\n",
            "1         563.0\n",
            "2           0.0\n",
            "3       22000.0\n",
            "4         131.0\n",
            "         ...   \n",
            "5038        2.0\n",
            "5039       49.0\n",
            "5040        0.0\n",
            "5041        0.0\n",
            "5042       16.0\n",
            "Name: director_facebook_likes, Length: 5043, dtype: float64\n",
            "0         855.0\n",
            "1        1000.0\n",
            "2         161.0\n",
            "3       23000.0\n",
            "4         371.5\n",
            "         ...   \n",
            "5038      318.0\n",
            "5039      319.0\n",
            "5040        0.0\n",
            "5041      489.0\n",
            "5042       16.0\n",
            "Name: actor_3_facebook_likes, Length: 5043, dtype: float64\n",
            "0        1000.0\n",
            "1       40000.0\n",
            "2       11000.0\n",
            "3       27000.0\n",
            "4         131.0\n",
            "         ...   \n",
            "5038      637.0\n",
            "5039      841.0\n",
            "5040        0.0\n",
            "5041      946.0\n",
            "5042       86.0\n",
            "Name: actor_1_facebook_likes, Length: 5043, dtype: float64\n",
            "0       760505847.0\n",
            "1       309404152.0\n",
            "2       200074175.0\n",
            "3       448130642.0\n",
            "4        25517500.0\n",
            "           ...     \n",
            "5038     25517500.0\n",
            "5039     25517500.0\n",
            "5040     25517500.0\n",
            "5041        10443.0\n",
            "5042        85222.0\n",
            "Name: gross, Length: 5043, dtype: float64\n",
            "0        886204\n",
            "1        471220\n",
            "2        275868\n",
            "3       1144337\n",
            "4             8\n",
            "         ...   \n",
            "5038        629\n",
            "5039      73839\n",
            "5040         38\n",
            "5041       1255\n",
            "5042       4285\n",
            "Name: num_voted_users, Length: 5043, dtype: int64\n",
            "0         4834\n",
            "1        48350\n",
            "2        11700\n",
            "3       106759\n",
            "4          143\n",
            "         ...  \n",
            "5038      2283\n",
            "5039      1753\n",
            "5040         0\n",
            "5041      2386\n",
            "5042       163\n",
            "Name: cast_total_facebook_likes, Length: 5043, dtype: int64\n",
            "0       0.0\n",
            "1       0.0\n",
            "2       1.0\n",
            "3       0.0\n",
            "4       0.0\n",
            "       ... \n",
            "5038    2.0\n",
            "5039    1.0\n",
            "5040    0.0\n",
            "5041    5.0\n",
            "5042    0.0\n",
            "Name: facenumber_in_poster, Length: 5043, dtype: float64\n",
            "0       3054.0\n",
            "1       1238.0\n",
            "2        994.0\n",
            "3       2701.0\n",
            "4        156.0\n",
            "         ...  \n",
            "5038       6.0\n",
            "5039     359.0\n",
            "5040       3.0\n",
            "5041       9.0\n",
            "5042      84.0\n",
            "Name: num_user_for_reviews, Length: 5043, dtype: float64\n",
            "0       237000000.0\n",
            "1       300000000.0\n",
            "2       245000000.0\n",
            "3       250000000.0\n",
            "4        20000000.0\n",
            "           ...     \n",
            "5038     20000000.0\n",
            "5039     20000000.0\n",
            "5040         1400.0\n",
            "5041     20000000.0\n",
            "5042         1100.0\n",
            "Name: budget, Length: 5043, dtype: float64\n",
            "0       2009.0\n",
            "1       2007.0\n",
            "2       2015.0\n",
            "3       2012.0\n",
            "4       2005.0\n",
            "         ...  \n",
            "5038    2013.0\n",
            "5039    2005.0\n",
            "5040    2013.0\n",
            "5041    2012.0\n",
            "5042    2004.0\n",
            "Name: title_year, Length: 5043, dtype: float64\n",
            "0         936.0\n",
            "1        5000.0\n",
            "2         393.0\n",
            "3       23000.0\n",
            "4          12.0\n",
            "         ...   \n",
            "5038      470.0\n",
            "5039      593.0\n",
            "5040        0.0\n",
            "5041      719.0\n",
            "5042       23.0\n",
            "Name: actor_2_facebook_likes, Length: 5043, dtype: float64\n",
            "0       7.9\n",
            "1       7.1\n",
            "2       6.8\n",
            "3       8.5\n",
            "4       7.1\n",
            "       ... \n",
            "5038    7.7\n",
            "5039    7.5\n",
            "5040    6.3\n",
            "5041    6.3\n",
            "5042    6.6\n",
            "Name: imdb_score, Length: 5043, dtype: float64\n",
            "0        1.78\n",
            "1        2.35\n",
            "2        2.35\n",
            "3        2.35\n",
            "4        2.35\n",
            "        ...  \n",
            "5038     2.35\n",
            "5039    16.00\n",
            "5040     2.35\n",
            "5041     2.35\n",
            "5042     1.85\n",
            "Name: aspect_ratio, Length: 5043, dtype: float64\n",
            "0        33000\n",
            "1            0\n",
            "2        85000\n",
            "3       164000\n",
            "4            0\n",
            "         ...  \n",
            "5038        84\n",
            "5039     32000\n",
            "5040        16\n",
            "5041       660\n",
            "5042       456\n",
            "Name: movie_facebook_likes, Length: 5043, dtype: int64\n",
            "          director_name      actor_2_name                           genres  \\\n",
            "0         James Cameron  Joel David Moore  Action|Adventure|Fantasy|Sci-Fi   \n",
            "1        Gore Verbinski     Orlando Bloom         Action|Adventure|Fantasy   \n",
            "2            Sam Mendes      Rory Kinnear        Action|Adventure|Thriller   \n",
            "3     Christopher Nolan    Christian Bale                  Action|Thriller   \n",
            "4           Doug Walker        Rob Walker                      Documentary   \n",
            "...                 ...               ...                              ...   \n",
            "5038        Scott Smith     Daphne Zuniga                     Comedy|Drama   \n",
            "5039   Steven Spielberg     Valorie Curry     Crime|Drama|Mystery|Thriller   \n",
            "5040   Benjamin Roberds     Maxwell Moody            Drama|Horror|Thriller   \n",
            "5041        Daniel Hsia     Daniel Henney             Comedy|Drama|Romance   \n",
            "5042           Jon Gunn  Brian Herzlinger                      Documentary   \n",
            "\n",
            "         actor_1_name                                        movie_title  \\\n",
            "0         CCH Pounder                                            Avatar    \n",
            "1         Johnny Depp          Pirates of the Caribbean: At World's End    \n",
            "2     Christoph Waltz                                           Spectre    \n",
            "3           Tom Hardy                             The Dark Knight Rises    \n",
            "4         Doug Walker  Star Wars: Episode VII - The Force Awakens    ...   \n",
            "...               ...                                                ...   \n",
            "5038      Eric Mabius                           Signed Sealed Delivered    \n",
            "5039      Natalie Zea                         The Following                \n",
            "5040      Eva Boehnke                              A Plague So Pleasant    \n",
            "5041        Alan Ruck                                  Shanghai Calling    \n",
            "5042      John August                                 My Date with Drew    \n",
            "\n",
            "              actor_3_name                                      plot_keywords  \\\n",
            "0                Wes Studi             avatar|future|marine|native|paraplegic   \n",
            "1           Jack Davenport  goddess|marriage ceremony|marriage proposal|pi...   \n",
            "2         Stephanie Sigman                bomb|espionage|sequel|spy|terrorist   \n",
            "3     Joseph Gordon-Levitt  deception|imprisonment|lawlessness|police offi...   \n",
            "4           Ben Mendelsohn                                     based on novel   \n",
            "...                    ...                                                ...   \n",
            "5038          Crystal Lowe             fraud|postal worker|prison|theft|trial   \n",
            "5039         Sam Underwood       cult|fbi|hideout|prison escape|serial killer   \n",
            "5040        David Chandler                                     based on novel   \n",
            "5041           Eliza Coupe                                     based on novel   \n",
            "5042              Jon Gunn  actress name in title|crush|date|four word tit...   \n",
            "\n",
            "     language country content_rating  \n",
            "0     English     USA          PG-13  \n",
            "1     English     USA          PG-13  \n",
            "2     English      UK          PG-13  \n",
            "3     English     USA          PG-13  \n",
            "4     English     USA              R  \n",
            "...       ...     ...            ...  \n",
            "5038  English  Canada              R  \n",
            "5039  English     USA          TV-14  \n",
            "5040  English     USA              R  \n",
            "5041  English     USA          PG-13  \n",
            "5042  English     USA             PG  \n",
            "\n",
            "[5043 rows x 10 columns]\n"
          ]
        }
      ],
      "source": [
        "# NA imputation\n",
        "for i in num:\n",
        "    if (data[i].skew()<-1 or data[i].skew()>1):\n",
        "      data[i]=data[i].replace(np.NaN,data[i].median())\n",
        "    else:\n",
        "      data[i]=data[i].replace(np.NaN,data[i].mean())\n",
        "    print(data[i])  \n",
        "data[cat]=data[cat].fillna(data.mode().iloc[0])\n",
        "print(data[cat])"
      ]
    },
    {
      "cell_type": "code",
      "execution_count": 59,
      "metadata": {
        "colab": {
          "base_uri": "https://localhost:8080/"
        },
        "id": "NXVErg_O3vqN",
        "outputId": "d84d5aa3-4c92-4e71-ebf2-5a7c6a4b5469"
      },
      "outputs": [
        {
          "data": {
            "text/plain": [
              "director_name                0\n",
              "num_critic_for_reviews       0\n",
              "duration                     0\n",
              "director_facebook_likes      0\n",
              "actor_3_facebook_likes       0\n",
              "actor_2_name                 0\n",
              "actor_1_facebook_likes       0\n",
              "gross                        0\n",
              "genres                       0\n",
              "actor_1_name                 0\n",
              "movie_title                  0\n",
              "num_voted_users              0\n",
              "cast_total_facebook_likes    0\n",
              "actor_3_name                 0\n",
              "facenumber_in_poster         0\n",
              "plot_keywords                0\n",
              "num_user_for_reviews         0\n",
              "language                     0\n",
              "country                      0\n",
              "content_rating               0\n",
              "budget                       0\n",
              "title_year                   0\n",
              "actor_2_facebook_likes       0\n",
              "imdb_score                   0\n",
              "aspect_ratio                 0\n",
              "movie_facebook_likes         0\n",
              "dtype: int64"
            ]
          },
          "execution_count": 59,
          "metadata": {},
          "output_type": "execute_result"
        }
      ],
      "source": [
        "# Recheck that all the null values are removed\n",
        "data.isna().sum()"
      ]
    },
    {
      "cell_type": "code",
      "execution_count": 60,
      "metadata": {
        "colab": {
          "base_uri": "https://localhost:8080/"
        },
        "id": "FuFq9WyV3vqP",
        "outputId": "0a68393b-6dfe-47a9-e60b-b95da4900f26"
      },
      "outputs": [
        {
          "data": {
            "text/plain": [
              "(4998, 26)"
            ]
          },
          "execution_count": 60,
          "metadata": {},
          "output_type": "execute_result"
        }
      ],
      "source": [
        "#Removing the duplicate values in the datset\n",
        "\n",
        "data.drop_duplicates(inplace=True)\n",
        "data.shape"
      ]
    },
    {
      "cell_type": "code",
      "execution_count": 61,
      "metadata": {
        "colab": {
          "base_uri": "https://localhost:8080/"
        },
        "id": "PNHO7S5X3vqQ",
        "outputId": "eaf83f36-4d2a-4e0f-c780-c1b4b109ba86"
      },
      "outputs": [
        {
          "data": {
            "text/plain": [
              "English       4674\n",
              "French          73\n",
              "Spanish         40\n",
              "Hindi           28\n",
              "Mandarin        24\n",
              "German          19\n",
              "Japanese        17\n",
              "Cantonese       11\n",
              "Russian         11\n",
              "Italian         11\n",
              "Portuguese       8\n",
              "Korean           8\n",
              "Arabic           5\n",
              "Danish           5\n",
              "Hebrew           5\n",
              "Swedish          5\n",
              "Polish           4\n",
              "Norwegian        4\n",
              "Persian          4\n",
              "Dutch            4\n",
              "Thai             3\n",
              "Chinese          3\n",
              "Icelandic        2\n",
              "None             2\n",
              "Indonesian       2\n",
              "Aboriginal       2\n",
              "Romanian         2\n",
              "Dari             2\n",
              "Zulu             2\n",
              "Panjabi          1\n",
              "Urdu             1\n",
              "Vietnamese       1\n",
              "Slovenian        1\n",
              "Greek            1\n",
              "Dzongkha         1\n",
              "Tamil            1\n",
              "Telugu           1\n",
              "Kannada          1\n",
              "Czech            1\n",
              "Hungarian        1\n",
              "Bosnian          1\n",
              "Filipino         1\n",
              "Mongolian        1\n",
              "Maya             1\n",
              "Aramaic          1\n",
              "Kazakh           1\n",
              "Swahili          1\n",
              "Name: language, dtype: int64"
            ]
          },
          "execution_count": 61,
          "metadata": {},
          "output_type": "execute_result"
        }
      ],
      "source": [
        "#Count of the language values \n",
        "data[\"language\"].value_counts()"
      ]
    },
    {
      "cell_type": "code",
      "execution_count": 62,
      "metadata": {
        "id": "aTjfA28y3vqS"
      },
      "outputs": [],
      "source": [
        "#Most of the values for the languages is english we can drop the english column\n",
        "\n",
        "data.drop('language',axis=1,inplace=True)"
      ]
    },
    {
      "cell_type": "code",
      "execution_count": 63,
      "metadata": {
        "colab": {
          "base_uri": "https://localhost:8080/"
        },
        "id": "o1N_n4Lf3vqV",
        "outputId": "f970b48c-f358-40c0-ec6e-d139ba58d6f9"
      },
      "outputs": [
        {
          "data": {
            "text/plain": [
              "USA              3778\n",
              "UK                443\n",
              "France            154\n",
              "Canada            124\n",
              "Germany            96\n",
              "                 ... \n",
              "Slovakia            1\n",
              "Chile               1\n",
              "Cambodia            1\n",
              "Official site       1\n",
              "Philippines         1\n",
              "Name: country, Length: 65, dtype: int64"
            ]
          },
          "execution_count": 63,
          "metadata": {},
          "output_type": "execute_result"
        }
      ],
      "source": [
        "#Value counts for the countries \n",
        "data.country.value_counts()"
      ]
    },
    {
      "cell_type": "code",
      "execution_count": 64,
      "metadata": {
        "colab": {
          "base_uri": "https://localhost:8080/"
        },
        "id": "_pviApcR5xC0",
        "outputId": "f02c7479-bd6c-4ee3-e1d0-b687c021abd2"
      },
      "outputs": [
        {
          "name": "stdout",
          "output_type": "stream",
          "text": [
            "USA              3778\n",
            "UK                443\n",
            "France            154\n",
            "Canada            124\n",
            "Germany            96\n",
            "                 ... \n",
            "Slovakia            1\n",
            "Chile               1\n",
            "Cambodia            1\n",
            "Official site       1\n",
            "Philippines         1\n",
            "Name: country, Length: 65, dtype: int64\n"
          ]
        }
      ],
      "source": [
        "value_counts=data[\"country\"].value_counts()\n",
        "print(value_counts)"
      ]
    },
    {
      "cell_type": "code",
      "execution_count": 65,
      "metadata": {
        "colab": {
          "base_uri": "https://localhost:8080/"
        },
        "id": "zb06bL2D-tMM",
        "outputId": "194b7a88-5b3c-470c-e0df-4f537211b6f0"
      },
      "outputs": [
        {
          "name": "stdout",
          "output_type": "stream",
          "text": [
            "Index(['USA', 'UK'], dtype='object')\n"
          ]
        }
      ],
      "source": [
        "vals = value_counts[:2].index\n",
        "print (vals)"
      ]
    },
    {
      "cell_type": "code",
      "execution_count": 66,
      "metadata": {
        "id": "TW46d98D3vqX"
      },
      "outputs": [],
      "source": [
        "##get top 2 values of index\n",
        "data['country'] = data.country.where(data.country.isin(vals), 'other')\n"
      ]
    },
    {
      "cell_type": "code",
      "execution_count": 67,
      "metadata": {
        "colab": {
          "base_uri": "https://localhost:8080/"
        },
        "id": "SAseAX8F3vqX",
        "outputId": "73a3548a-fd3e-4346-ea4a-69bbe331ed07"
      },
      "outputs": [
        {
          "data": {
            "text/plain": [
              "USA      3778\n",
              "other     777\n",
              "UK        443\n",
              "Name: country, dtype: int64"
            ]
          },
          "execution_count": 67,
          "metadata": {},
          "output_type": "execute_result"
        }
      ],
      "source": [
        "#Successfully divided the country into three catogories \n",
        "data[\"country\"].value_counts()"
      ]
    },
    {
      "cell_type": "code",
      "execution_count": 68,
      "metadata": {
        "colab": {
          "base_uri": "https://localhost:8080/",
          "height": 612
        },
        "id": "Q4zwvnGs3vqY",
        "outputId": "a4657756-1e24-4180-aed6-d85a29296148"
      },
      "outputs": [
        {
          "data": {
            "text/html": [
              "<div>\n",
              "<style scoped>\n",
              "    .dataframe tbody tr th:only-of-type {\n",
              "        vertical-align: middle;\n",
              "    }\n",
              "\n",
              "    .dataframe tbody tr th {\n",
              "        vertical-align: top;\n",
              "    }\n",
              "\n",
              "    .dataframe thead th {\n",
              "        text-align: right;\n",
              "    }\n",
              "</style>\n",
              "<table border=\"1\" class=\"dataframe\">\n",
              "  <thead>\n",
              "    <tr style=\"text-align: right;\">\n",
              "      <th></th>\n",
              "      <th>director_name</th>\n",
              "      <th>num_critic_for_reviews</th>\n",
              "      <th>duration</th>\n",
              "      <th>director_facebook_likes</th>\n",
              "      <th>actor_3_facebook_likes</th>\n",
              "      <th>actor_2_name</th>\n",
              "      <th>actor_1_facebook_likes</th>\n",
              "      <th>gross</th>\n",
              "      <th>genres</th>\n",
              "      <th>actor_1_name</th>\n",
              "      <th>...</th>\n",
              "      <th>plot_keywords</th>\n",
              "      <th>num_user_for_reviews</th>\n",
              "      <th>country</th>\n",
              "      <th>content_rating</th>\n",
              "      <th>budget</th>\n",
              "      <th>title_year</th>\n",
              "      <th>actor_2_facebook_likes</th>\n",
              "      <th>imdb_score</th>\n",
              "      <th>aspect_ratio</th>\n",
              "      <th>movie_facebook_likes</th>\n",
              "    </tr>\n",
              "  </thead>\n",
              "  <tbody>\n",
              "    <tr>\n",
              "      <th>0</th>\n",
              "      <td>James Cameron</td>\n",
              "      <td>723.0</td>\n",
              "      <td>178.0</td>\n",
              "      <td>0.0</td>\n",
              "      <td>855.0</td>\n",
              "      <td>Joel David Moore</td>\n",
              "      <td>1000.0</td>\n",
              "      <td>760505847.0</td>\n",
              "      <td>Action|Adventure|Fantasy|Sci-Fi</td>\n",
              "      <td>CCH Pounder</td>\n",
              "      <td>...</td>\n",
              "      <td>avatar|future|marine|native|paraplegic</td>\n",
              "      <td>3054.0</td>\n",
              "      <td>USA</td>\n",
              "      <td>PG-13</td>\n",
              "      <td>237000000.0</td>\n",
              "      <td>2009.0</td>\n",
              "      <td>936.0</td>\n",
              "      <td>7.9</td>\n",
              "      <td>1.78</td>\n",
              "      <td>33000</td>\n",
              "    </tr>\n",
              "    <tr>\n",
              "      <th>1</th>\n",
              "      <td>Gore Verbinski</td>\n",
              "      <td>302.0</td>\n",
              "      <td>169.0</td>\n",
              "      <td>563.0</td>\n",
              "      <td>1000.0</td>\n",
              "      <td>Orlando Bloom</td>\n",
              "      <td>40000.0</td>\n",
              "      <td>309404152.0</td>\n",
              "      <td>Action|Adventure|Fantasy</td>\n",
              "      <td>Johnny Depp</td>\n",
              "      <td>...</td>\n",
              "      <td>goddess|marriage ceremony|marriage proposal|pi...</td>\n",
              "      <td>1238.0</td>\n",
              "      <td>USA</td>\n",
              "      <td>PG-13</td>\n",
              "      <td>300000000.0</td>\n",
              "      <td>2007.0</td>\n",
              "      <td>5000.0</td>\n",
              "      <td>7.1</td>\n",
              "      <td>2.35</td>\n",
              "      <td>0</td>\n",
              "    </tr>\n",
              "    <tr>\n",
              "      <th>2</th>\n",
              "      <td>Sam Mendes</td>\n",
              "      <td>602.0</td>\n",
              "      <td>148.0</td>\n",
              "      <td>0.0</td>\n",
              "      <td>161.0</td>\n",
              "      <td>Rory Kinnear</td>\n",
              "      <td>11000.0</td>\n",
              "      <td>200074175.0</td>\n",
              "      <td>Action|Adventure|Thriller</td>\n",
              "      <td>Christoph Waltz</td>\n",
              "      <td>...</td>\n",
              "      <td>bomb|espionage|sequel|spy|terrorist</td>\n",
              "      <td>994.0</td>\n",
              "      <td>UK</td>\n",
              "      <td>PG-13</td>\n",
              "      <td>245000000.0</td>\n",
              "      <td>2015.0</td>\n",
              "      <td>393.0</td>\n",
              "      <td>6.8</td>\n",
              "      <td>2.35</td>\n",
              "      <td>85000</td>\n",
              "    </tr>\n",
              "    <tr>\n",
              "      <th>3</th>\n",
              "      <td>Christopher Nolan</td>\n",
              "      <td>813.0</td>\n",
              "      <td>164.0</td>\n",
              "      <td>22000.0</td>\n",
              "      <td>23000.0</td>\n",
              "      <td>Christian Bale</td>\n",
              "      <td>27000.0</td>\n",
              "      <td>448130642.0</td>\n",
              "      <td>Action|Thriller</td>\n",
              "      <td>Tom Hardy</td>\n",
              "      <td>...</td>\n",
              "      <td>deception|imprisonment|lawlessness|police offi...</td>\n",
              "      <td>2701.0</td>\n",
              "      <td>USA</td>\n",
              "      <td>PG-13</td>\n",
              "      <td>250000000.0</td>\n",
              "      <td>2012.0</td>\n",
              "      <td>23000.0</td>\n",
              "      <td>8.5</td>\n",
              "      <td>2.35</td>\n",
              "      <td>164000</td>\n",
              "    </tr>\n",
              "    <tr>\n",
              "      <th>4</th>\n",
              "      <td>Doug Walker</td>\n",
              "      <td>110.0</td>\n",
              "      <td>103.0</td>\n",
              "      <td>131.0</td>\n",
              "      <td>371.5</td>\n",
              "      <td>Rob Walker</td>\n",
              "      <td>131.0</td>\n",
              "      <td>25517500.0</td>\n",
              "      <td>Documentary</td>\n",
              "      <td>Doug Walker</td>\n",
              "      <td>...</td>\n",
              "      <td>based on novel</td>\n",
              "      <td>156.0</td>\n",
              "      <td>USA</td>\n",
              "      <td>R</td>\n",
              "      <td>20000000.0</td>\n",
              "      <td>2005.0</td>\n",
              "      <td>12.0</td>\n",
              "      <td>7.1</td>\n",
              "      <td>2.35</td>\n",
              "      <td>0</td>\n",
              "    </tr>\n",
              "    <tr>\n",
              "      <th>5</th>\n",
              "      <td>Andrew Stanton</td>\n",
              "      <td>462.0</td>\n",
              "      <td>132.0</td>\n",
              "      <td>475.0</td>\n",
              "      <td>530.0</td>\n",
              "      <td>Samantha Morton</td>\n",
              "      <td>640.0</td>\n",
              "      <td>73058679.0</td>\n",
              "      <td>Action|Adventure|Sci-Fi</td>\n",
              "      <td>Daryl Sabara</td>\n",
              "      <td>...</td>\n",
              "      <td>alien|american civil war|male nipple|mars|prin...</td>\n",
              "      <td>738.0</td>\n",
              "      <td>USA</td>\n",
              "      <td>PG-13</td>\n",
              "      <td>263700000.0</td>\n",
              "      <td>2012.0</td>\n",
              "      <td>632.0</td>\n",
              "      <td>6.6</td>\n",
              "      <td>2.35</td>\n",
              "      <td>24000</td>\n",
              "    </tr>\n",
              "    <tr>\n",
              "      <th>6</th>\n",
              "      <td>Sam Raimi</td>\n",
              "      <td>392.0</td>\n",
              "      <td>156.0</td>\n",
              "      <td>0.0</td>\n",
              "      <td>4000.0</td>\n",
              "      <td>James Franco</td>\n",
              "      <td>24000.0</td>\n",
              "      <td>336530303.0</td>\n",
              "      <td>Action|Adventure|Romance</td>\n",
              "      <td>J.K. Simmons</td>\n",
              "      <td>...</td>\n",
              "      <td>sandman|spider man|symbiote|venom|villain</td>\n",
              "      <td>1902.0</td>\n",
              "      <td>USA</td>\n",
              "      <td>PG-13</td>\n",
              "      <td>258000000.0</td>\n",
              "      <td>2007.0</td>\n",
              "      <td>11000.0</td>\n",
              "      <td>6.2</td>\n",
              "      <td>2.35</td>\n",
              "      <td>0</td>\n",
              "    </tr>\n",
              "    <tr>\n",
              "      <th>7</th>\n",
              "      <td>Nathan Greno</td>\n",
              "      <td>324.0</td>\n",
              "      <td>100.0</td>\n",
              "      <td>15.0</td>\n",
              "      <td>284.0</td>\n",
              "      <td>Donna Murphy</td>\n",
              "      <td>799.0</td>\n",
              "      <td>200807262.0</td>\n",
              "      <td>Adventure|Animation|Comedy|Family|Fantasy|Musi...</td>\n",
              "      <td>Brad Garrett</td>\n",
              "      <td>...</td>\n",
              "      <td>17th century|based on fairy tale|disney|flower...</td>\n",
              "      <td>387.0</td>\n",
              "      <td>USA</td>\n",
              "      <td>PG</td>\n",
              "      <td>260000000.0</td>\n",
              "      <td>2010.0</td>\n",
              "      <td>553.0</td>\n",
              "      <td>7.8</td>\n",
              "      <td>1.85</td>\n",
              "      <td>29000</td>\n",
              "    </tr>\n",
              "    <tr>\n",
              "      <th>8</th>\n",
              "      <td>Joss Whedon</td>\n",
              "      <td>635.0</td>\n",
              "      <td>141.0</td>\n",
              "      <td>0.0</td>\n",
              "      <td>19000.0</td>\n",
              "      <td>Robert Downey Jr.</td>\n",
              "      <td>26000.0</td>\n",
              "      <td>458991599.0</td>\n",
              "      <td>Action|Adventure|Sci-Fi</td>\n",
              "      <td>Chris Hemsworth</td>\n",
              "      <td>...</td>\n",
              "      <td>artificial intelligence|based on comic book|ca...</td>\n",
              "      <td>1117.0</td>\n",
              "      <td>USA</td>\n",
              "      <td>PG-13</td>\n",
              "      <td>250000000.0</td>\n",
              "      <td>2015.0</td>\n",
              "      <td>21000.0</td>\n",
              "      <td>7.5</td>\n",
              "      <td>2.35</td>\n",
              "      <td>118000</td>\n",
              "    </tr>\n",
              "    <tr>\n",
              "      <th>9</th>\n",
              "      <td>David Yates</td>\n",
              "      <td>375.0</td>\n",
              "      <td>153.0</td>\n",
              "      <td>282.0</td>\n",
              "      <td>10000.0</td>\n",
              "      <td>Daniel Radcliffe</td>\n",
              "      <td>25000.0</td>\n",
              "      <td>301956980.0</td>\n",
              "      <td>Adventure|Family|Fantasy|Mystery</td>\n",
              "      <td>Alan Rickman</td>\n",
              "      <td>...</td>\n",
              "      <td>blood|book|love|potion|professor</td>\n",
              "      <td>973.0</td>\n",
              "      <td>UK</td>\n",
              "      <td>PG</td>\n",
              "      <td>250000000.0</td>\n",
              "      <td>2009.0</td>\n",
              "      <td>11000.0</td>\n",
              "      <td>7.5</td>\n",
              "      <td>2.35</td>\n",
              "      <td>10000</td>\n",
              "    </tr>\n",
              "  </tbody>\n",
              "</table>\n",
              "<p>10 rows × 25 columns</p>\n",
              "</div>"
            ],
            "text/plain": [
              "       director_name  num_critic_for_reviews  duration  \\\n",
              "0      James Cameron                   723.0     178.0   \n",
              "1     Gore Verbinski                   302.0     169.0   \n",
              "2         Sam Mendes                   602.0     148.0   \n",
              "3  Christopher Nolan                   813.0     164.0   \n",
              "4        Doug Walker                   110.0     103.0   \n",
              "5     Andrew Stanton                   462.0     132.0   \n",
              "6          Sam Raimi                   392.0     156.0   \n",
              "7       Nathan Greno                   324.0     100.0   \n",
              "8        Joss Whedon                   635.0     141.0   \n",
              "9        David Yates                   375.0     153.0   \n",
              "\n",
              "   director_facebook_likes  actor_3_facebook_likes       actor_2_name  \\\n",
              "0                      0.0                   855.0   Joel David Moore   \n",
              "1                    563.0                  1000.0      Orlando Bloom   \n",
              "2                      0.0                   161.0       Rory Kinnear   \n",
              "3                  22000.0                 23000.0     Christian Bale   \n",
              "4                    131.0                   371.5         Rob Walker   \n",
              "5                    475.0                   530.0    Samantha Morton   \n",
              "6                      0.0                  4000.0       James Franco   \n",
              "7                     15.0                   284.0       Donna Murphy   \n",
              "8                      0.0                 19000.0  Robert Downey Jr.   \n",
              "9                    282.0                 10000.0   Daniel Radcliffe   \n",
              "\n",
              "   actor_1_facebook_likes        gross  \\\n",
              "0                  1000.0  760505847.0   \n",
              "1                 40000.0  309404152.0   \n",
              "2                 11000.0  200074175.0   \n",
              "3                 27000.0  448130642.0   \n",
              "4                   131.0   25517500.0   \n",
              "5                   640.0   73058679.0   \n",
              "6                 24000.0  336530303.0   \n",
              "7                   799.0  200807262.0   \n",
              "8                 26000.0  458991599.0   \n",
              "9                 25000.0  301956980.0   \n",
              "\n",
              "                                              genres     actor_1_name  ...  \\\n",
              "0                    Action|Adventure|Fantasy|Sci-Fi      CCH Pounder  ...   \n",
              "1                           Action|Adventure|Fantasy      Johnny Depp  ...   \n",
              "2                          Action|Adventure|Thriller  Christoph Waltz  ...   \n",
              "3                                    Action|Thriller        Tom Hardy  ...   \n",
              "4                                        Documentary      Doug Walker  ...   \n",
              "5                            Action|Adventure|Sci-Fi     Daryl Sabara  ...   \n",
              "6                           Action|Adventure|Romance     J.K. Simmons  ...   \n",
              "7  Adventure|Animation|Comedy|Family|Fantasy|Musi...     Brad Garrett  ...   \n",
              "8                            Action|Adventure|Sci-Fi  Chris Hemsworth  ...   \n",
              "9                   Adventure|Family|Fantasy|Mystery     Alan Rickman  ...   \n",
              "\n",
              "                                       plot_keywords  num_user_for_reviews  \\\n",
              "0             avatar|future|marine|native|paraplegic                3054.0   \n",
              "1  goddess|marriage ceremony|marriage proposal|pi...                1238.0   \n",
              "2                bomb|espionage|sequel|spy|terrorist                 994.0   \n",
              "3  deception|imprisonment|lawlessness|police offi...                2701.0   \n",
              "4                                     based on novel                 156.0   \n",
              "5  alien|american civil war|male nipple|mars|prin...                 738.0   \n",
              "6          sandman|spider man|symbiote|venom|villain                1902.0   \n",
              "7  17th century|based on fairy tale|disney|flower...                 387.0   \n",
              "8  artificial intelligence|based on comic book|ca...                1117.0   \n",
              "9                   blood|book|love|potion|professor                 973.0   \n",
              "\n",
              "   country content_rating       budget title_year  actor_2_facebook_likes  \\\n",
              "0      USA          PG-13  237000000.0     2009.0                   936.0   \n",
              "1      USA          PG-13  300000000.0     2007.0                  5000.0   \n",
              "2       UK          PG-13  245000000.0     2015.0                   393.0   \n",
              "3      USA          PG-13  250000000.0     2012.0                 23000.0   \n",
              "4      USA              R   20000000.0     2005.0                    12.0   \n",
              "5      USA          PG-13  263700000.0     2012.0                   632.0   \n",
              "6      USA          PG-13  258000000.0     2007.0                 11000.0   \n",
              "7      USA             PG  260000000.0     2010.0                   553.0   \n",
              "8      USA          PG-13  250000000.0     2015.0                 21000.0   \n",
              "9       UK             PG  250000000.0     2009.0                 11000.0   \n",
              "\n",
              "  imdb_score aspect_ratio  movie_facebook_likes  \n",
              "0        7.9         1.78                 33000  \n",
              "1        7.1         2.35                     0  \n",
              "2        6.8         2.35                 85000  \n",
              "3        8.5         2.35                164000  \n",
              "4        7.1         2.35                     0  \n",
              "5        6.6         2.35                 24000  \n",
              "6        6.2         2.35                     0  \n",
              "7        7.8         1.85                 29000  \n",
              "8        7.5         2.35                118000  \n",
              "9        7.5         2.35                 10000  \n",
              "\n",
              "[10 rows x 25 columns]"
            ]
          },
          "execution_count": 68,
          "metadata": {},
          "output_type": "execute_result"
        }
      ],
      "source": [
        "data.head(10)\n"
      ]
    },
    {
      "cell_type": "code",
      "execution_count": 69,
      "metadata": {
        "id": "qTLTAGhx3vqm"
      },
      "outputs": [],
      "source": [
        "#Removing the director name column\n",
        "data.drop('director_name', axis=1, inplace=True)"
      ]
    },
    {
      "cell_type": "code",
      "execution_count": 70,
      "metadata": {
        "id": "e-anutU13vqm"
      },
      "outputs": [],
      "source": [
        "#Removing the actor1 ,actor 2 and actor 3 names \n",
        "\n",
        "data.drop('actor_1_name',axis=1,inplace=True)\n",
        "data.drop('actor_2_name',axis=1,inplace=True)\n",
        "data.drop('actor_3_name',axis=1,inplace=True)\n",
        "\n",
        "#Dropping the movie title \n",
        "data.drop('movie_title',axis=1,inplace=True)\n",
        "\n",
        "# Dropping the plot keywords\n",
        "data.drop('plot_keywords',axis=1,inplace=True)"
      ]
    },
    {
      "cell_type": "code",
      "execution_count": 71,
      "metadata": {
        "colab": {
          "base_uri": "https://localhost:8080/"
        },
        "id": "cSMIanad3vqo",
        "outputId": "23accecb-2c4d-4ce2-9743-5cbcd14cb0ad"
      },
      "outputs": [
        {
          "data": {
            "text/plain": [
              "Drama                                         235\n",
              "Comedy                                        205\n",
              "Comedy|Drama                                  189\n",
              "Comedy|Drama|Romance                          187\n",
              "Comedy|Romance                                158\n",
              "                                             ... \n",
              "Action|Crime|Drama|Mystery|Sci-Fi|Thriller      1\n",
              "Action|Drama|Fantasy|Horror|Thriller            1\n",
              "Action|Thriller|Western                         1\n",
              "Action|Adventure|Drama|Family                   1\n",
              "Comedy|Crime|Horror                             1\n",
              "Name: genres, Length: 914, dtype: int64"
            ]
          },
          "execution_count": 71,
          "metadata": {},
          "output_type": "execute_result"
        }
      ],
      "source": [
        "#Value count of genres\n",
        "\n",
        "data['genres'].value_counts()"
      ]
    },
    {
      "cell_type": "code",
      "execution_count": 72,
      "metadata": {
        "id": "D6hxfPLF3vqp"
      },
      "outputs": [],
      "source": [
        "#Most of the values are equally distributed in genres column ,so we can remove the genres column\n",
        "\n",
        "data.drop('genres',axis=1,inplace =True)"
      ]
    },
    {
      "cell_type": "code",
      "execution_count": 73,
      "metadata": {
        "id": "iBrP12vt3vqs"
      },
      "outputs": [],
      "source": [
        "#Adding the facebook likes of actor 2 and actor 3 together \n",
        "data['Other_actor_facebbok_likes']=data[\"actor_2_facebook_likes\"] + data['actor_3_facebook_likes']"
      ]
    },
    {
      "cell_type": "code",
      "execution_count": 74,
      "metadata": {
        "id": "JHF_9bJQ3vqs"
      },
      "outputs": [],
      "source": [
        "#Dropping the actor 2 and actor 3 facebook likes columns as they have been added together \n",
        "\n",
        "data.drop('actor_2_facebook_likes',axis=1,inplace=True)\n",
        "data.drop('actor_3_facebook_likes',axis=1,inplace=True)\n",
        "data.drop('cast_total_facebook_likes',axis=1,inplace=True)"
      ]
    },
    {
      "cell_type": "code",
      "execution_count": 75,
      "metadata": {
        "id": "c4NvVA4V3vqt"
      },
      "outputs": [],
      "source": [
        "#Ratio of the ratio of num_user_for_reviews and num_critic_for_reviews.\n",
        "\n",
        "data['critic_review_ratio']=data['num_critic_for_reviews']/data['num_user_for_reviews']"
      ]
    },
    {
      "cell_type": "code",
      "execution_count": 76,
      "metadata": {
        "id": "9aucZVj33vqu"
      },
      "outputs": [],
      "source": [
        "#Dropping the num_critic_for_review\n",
        "\n",
        "data.drop('num_critic_for_reviews',axis=1,inplace=True)\n",
        "data.drop('num_user_for_reviews',axis=1,inplace=True)"
      ]
    },
    {
      "cell_type": "code",
      "execution_count": 77,
      "metadata": {
        "id": "e0aXGHSD3vqv"
      },
      "outputs": [],
      "source": [
        "# We need to categorize the imdb values in the range of 0-4,4-6,6-8 and 8-10 to mark them as the bad,average,good and excellent movies respectively\n",
        "\n",
        "data[\"imdb_binned_score\"]=pd.cut(data['imdb_score'], bins=[0,4,6,8,10], right=True, labels=False)+1"
      ]
    },
    {
      "cell_type": "code",
      "execution_count": 78,
      "metadata": {
        "id": "AbiNODSw3vqv"
      },
      "outputs": [],
      "source": [
        "#Dropping the imdb_score column as it is being replaced with the imdb_binned_score values \n",
        "data.drop('imdb_score',axis=1,inplace=True)"
      ]
    },
    {
      "cell_type": "code",
      "execution_count": 79,
      "metadata": {
        "colab": {
          "base_uri": "https://localhost:8080/",
          "height": 270
        },
        "id": "lGSBNTzp3vqw",
        "outputId": "f3bd85ec-fcc6-4f48-cb26-662dee4d87b3"
      },
      "outputs": [
        {
          "data": {
            "text/html": [
              "<div>\n",
              "<style scoped>\n",
              "    .dataframe tbody tr th:only-of-type {\n",
              "        vertical-align: middle;\n",
              "    }\n",
              "\n",
              "    .dataframe tbody tr th {\n",
              "        vertical-align: top;\n",
              "    }\n",
              "\n",
              "    .dataframe thead th {\n",
              "        text-align: right;\n",
              "    }\n",
              "</style>\n",
              "<table border=\"1\" class=\"dataframe\">\n",
              "  <thead>\n",
              "    <tr style=\"text-align: right;\">\n",
              "      <th></th>\n",
              "      <th>duration</th>\n",
              "      <th>director_facebook_likes</th>\n",
              "      <th>actor_1_facebook_likes</th>\n",
              "      <th>gross</th>\n",
              "      <th>num_voted_users</th>\n",
              "      <th>facenumber_in_poster</th>\n",
              "      <th>country</th>\n",
              "      <th>content_rating</th>\n",
              "      <th>budget</th>\n",
              "      <th>title_year</th>\n",
              "      <th>aspect_ratio</th>\n",
              "      <th>movie_facebook_likes</th>\n",
              "      <th>Other_actor_facebbok_likes</th>\n",
              "      <th>critic_review_ratio</th>\n",
              "      <th>imdb_binned_score</th>\n",
              "    </tr>\n",
              "  </thead>\n",
              "  <tbody>\n",
              "    <tr>\n",
              "      <th>0</th>\n",
              "      <td>178.0</td>\n",
              "      <td>0.0</td>\n",
              "      <td>1000.0</td>\n",
              "      <td>760505847.0</td>\n",
              "      <td>886204</td>\n",
              "      <td>0.0</td>\n",
              "      <td>USA</td>\n",
              "      <td>PG-13</td>\n",
              "      <td>237000000.0</td>\n",
              "      <td>2009.0</td>\n",
              "      <td>1.78</td>\n",
              "      <td>33000</td>\n",
              "      <td>1791.0</td>\n",
              "      <td>0.236739</td>\n",
              "      <td>3</td>\n",
              "    </tr>\n",
              "    <tr>\n",
              "      <th>1</th>\n",
              "      <td>169.0</td>\n",
              "      <td>563.0</td>\n",
              "      <td>40000.0</td>\n",
              "      <td>309404152.0</td>\n",
              "      <td>471220</td>\n",
              "      <td>0.0</td>\n",
              "      <td>USA</td>\n",
              "      <td>PG-13</td>\n",
              "      <td>300000000.0</td>\n",
              "      <td>2007.0</td>\n",
              "      <td>2.35</td>\n",
              "      <td>0</td>\n",
              "      <td>6000.0</td>\n",
              "      <td>0.243942</td>\n",
              "      <td>3</td>\n",
              "    </tr>\n",
              "    <tr>\n",
              "      <th>2</th>\n",
              "      <td>148.0</td>\n",
              "      <td>0.0</td>\n",
              "      <td>11000.0</td>\n",
              "      <td>200074175.0</td>\n",
              "      <td>275868</td>\n",
              "      <td>1.0</td>\n",
              "      <td>UK</td>\n",
              "      <td>PG-13</td>\n",
              "      <td>245000000.0</td>\n",
              "      <td>2015.0</td>\n",
              "      <td>2.35</td>\n",
              "      <td>85000</td>\n",
              "      <td>554.0</td>\n",
              "      <td>0.605634</td>\n",
              "      <td>3</td>\n",
              "    </tr>\n",
              "    <tr>\n",
              "      <th>3</th>\n",
              "      <td>164.0</td>\n",
              "      <td>22000.0</td>\n",
              "      <td>27000.0</td>\n",
              "      <td>448130642.0</td>\n",
              "      <td>1144337</td>\n",
              "      <td>0.0</td>\n",
              "      <td>USA</td>\n",
              "      <td>PG-13</td>\n",
              "      <td>250000000.0</td>\n",
              "      <td>2012.0</td>\n",
              "      <td>2.35</td>\n",
              "      <td>164000</td>\n",
              "      <td>46000.0</td>\n",
              "      <td>0.301000</td>\n",
              "      <td>4</td>\n",
              "    </tr>\n",
              "    <tr>\n",
              "      <th>4</th>\n",
              "      <td>103.0</td>\n",
              "      <td>131.0</td>\n",
              "      <td>131.0</td>\n",
              "      <td>25517500.0</td>\n",
              "      <td>8</td>\n",
              "      <td>0.0</td>\n",
              "      <td>USA</td>\n",
              "      <td>R</td>\n",
              "      <td>20000000.0</td>\n",
              "      <td>2005.0</td>\n",
              "      <td>2.35</td>\n",
              "      <td>0</td>\n",
              "      <td>383.5</td>\n",
              "      <td>0.705128</td>\n",
              "      <td>3</td>\n",
              "    </tr>\n",
              "  </tbody>\n",
              "</table>\n",
              "</div>"
            ],
            "text/plain": [
              "   duration  director_facebook_likes  actor_1_facebook_likes        gross  \\\n",
              "0     178.0                      0.0                  1000.0  760505847.0   \n",
              "1     169.0                    563.0                 40000.0  309404152.0   \n",
              "2     148.0                      0.0                 11000.0  200074175.0   \n",
              "3     164.0                  22000.0                 27000.0  448130642.0   \n",
              "4     103.0                    131.0                   131.0   25517500.0   \n",
              "\n",
              "   num_voted_users  facenumber_in_poster country content_rating       budget  \\\n",
              "0           886204                   0.0     USA          PG-13  237000000.0   \n",
              "1           471220                   0.0     USA          PG-13  300000000.0   \n",
              "2           275868                   1.0      UK          PG-13  245000000.0   \n",
              "3          1144337                   0.0     USA          PG-13  250000000.0   \n",
              "4                8                   0.0     USA              R   20000000.0   \n",
              "\n",
              "   title_year  aspect_ratio  movie_facebook_likes  Other_actor_facebbok_likes  \\\n",
              "0      2009.0          1.78                 33000                      1791.0   \n",
              "1      2007.0          2.35                     0                      6000.0   \n",
              "2      2015.0          2.35                 85000                       554.0   \n",
              "3      2012.0          2.35                164000                     46000.0   \n",
              "4      2005.0          2.35                     0                       383.5   \n",
              "\n",
              "   critic_review_ratio  imdb_binned_score  \n",
              "0             0.236739                  3  \n",
              "1             0.243942                  3  \n",
              "2             0.605634                  3  \n",
              "3             0.301000                  4  \n",
              "4             0.705128                  3  "
            ]
          },
          "execution_count": 79,
          "metadata": {},
          "output_type": "execute_result"
        }
      ],
      "source": [
        "data.head(5)"
      ]
    },
    {
      "cell_type": "markdown",
      "metadata": {
        "id": "M6oO9dei3vqw"
      },
      "source": [
        "**3. Handling the categorical data**"
      ]
    },
    {
      "cell_type": "code",
      "execution_count": 80,
      "metadata": {
        "id": "C8fvCrvB3vqx"
      },
      "outputs": [],
      "source": [
        "data = pd.get_dummies(data = data, columns = ['country'] , prefix = ['country'] , drop_first = True)\n",
        "data = pd.get_dummies(data = data, columns = ['content_rating'] , prefix = ['content_rating'] , drop_first = True)"
      ]
    },
    {
      "cell_type": "code",
      "execution_count": 81,
      "metadata": {},
      "outputs": [
        {
          "data": {
            "text/plain": [
              "(4998, 32)"
            ]
          },
          "execution_count": 81,
          "metadata": {},
          "output_type": "execute_result"
        }
      ],
      "source": [
        "data.shape"
      ]
    },
    {
      "cell_type": "code",
      "execution_count": 82,
      "metadata": {},
      "outputs": [
        {
          "data": {
            "text/plain": [
              "num_voted_users               0.427256\n",
              "budget                        0.332323\n",
              "movie_facebook_likes          0.162010\n",
              "critic_review_ratio           0.136629\n",
              "Other_actor_facebbok_likes    0.110692\n",
              "actor_1_facebook_likes        0.103634\n",
              "title_year                    0.094483\n",
              "duration                      0.093750\n",
              "director_facebook_likes       0.074128\n",
              "content_rating_PG-13          0.059097\n",
              "aspect_ratio                  0.056810\n",
              "imdb_binned_score             0.050169\n",
              "country_other                 0.049837\n",
              "country_USA                   0.045453\n",
              "content_rating_R              0.044940\n",
              "content_rating_Not Rated      0.024603\n",
              "facenumber_in_poster          0.021636\n",
              "content_rating_PG             0.016077\n",
              "content_rating_TV-14          0.012459\n",
              "content_rating_Unrated        0.009728\n",
              "content_rating_TV-Y7          0.009697\n",
              "content_rating_GP             0.007682\n",
              "content_rating_TV-G           0.006882\n",
              "content_rating_NC-17          0.005934\n",
              "content_rating_TV-Y           0.003655\n",
              "content_rating_TV-MA          0.002930\n",
              "content_rating_TV-PG          0.001350\n",
              "content_rating_X              0.001310\n",
              "content_rating_Passed         0.000000\n",
              "content_rating_M              0.000000\n",
              "content_rating_G              0.000000\n",
              "dtype: float64"
            ]
          },
          "execution_count": 82,
          "metadata": {},
          "output_type": "execute_result"
        }
      ],
      "source": [
        "from sklearn.feature_selection import SelectKBest,mutual_info_regression\n",
        "x=data.loc[:,data.columns!='gross']\n",
        "y=data['gross']\n",
        "mic = SelectKBest(score_func=mutual_info_regression,k=5)\n",
        "mic.fit(x,y)\n",
        "feature_mi_score = pd.Series(mic.scores_,index=x.columns)\n",
        "feature_mi_score.sort_values(ascending=False)\n",
        "# result = mic.fit_transform(x,y)\n",
        "# result"
      ]
    },
    {
      "cell_type": "markdown",
      "metadata": {
        "id": "9c8ZZRI53vqy"
      },
      "source": [
        "**4. Splitting the data into training and test data**"
      ]
    },
    {
      "cell_type": "code",
      "execution_count": 83,
      "metadata": {
        "id": "CQ_vEjN53vqy"
      },
      "outputs": [],
      "source": [
        "X=pd.DataFrame(columns=['num_voted_users','budget','movie_facebook_likes','critic_review_ratio','Other_actor_facebbok_likes','actor_1_facebook_likes','duration','title_year'],data=data)\n",
        "y=pd.DataFrame(columns=['gross'],data=data)\n",
        "\n",
        "X_train, X_test, y_train, y_test=train_test_split(X,y,test_size=0.3,random_state=100)"
      ]
    },
    {
      "cell_type": "markdown",
      "metadata": {
        "id": "imewUwur3vqz"
      },
      "source": [
        "**6. Linear Model Selection**"
      ]
    },
    {
      "cell_type": "code",
      "execution_count": 84,
      "metadata": {},
      "outputs": [
        {
          "name": "stdout",
          "output_type": "stream",
          "text": [
            "error: 0.66 %\n",
            "Accuracy: 99.34 %\n",
            "error: 4.53 %\n",
            "root mean squared error: 0.81 %\n"
          ]
        }
      ],
      "source": [
        "#model \n",
        "reg_lin1 = LinearRegression()\n",
        "reg_lin1.fit(X_train,y_train)\n",
        "lin_pred1 = reg_lin1.predict(X_test)\n",
        "men=mean_squared_log_error(lin_pred1,y_test)\n",
        "mapps=mean_absolute_percentage_error(lin_pred1, y_test)\n",
        "accuracy=100-mapps\n",
        "print('error:',\"%.2f\" % mapps ,'%')\n",
        "print('Accuracy:',\"%.2f\" % accuracy, '%') \n",
        "print('error:', \"%.2f\" % men, '%')\n",
        "print('root mean squared error:',\"%.2f\" % np.sqrt(mapps),'%')"
      ]
    },
    {
      "cell_type": "code",
      "execution_count": 85,
      "metadata": {},
      "outputs": [],
      "source": [
        "import pickle\n",
        "# open a file, where you ant to store the data\n",
        "file = open('model.pkl', 'wb')\n",
        "\n",
        "# dump information to that file\n",
        "pickle.dump(reg_lin1, file)"
      ]
    },
    {
      "cell_type": "code",
      "execution_count": 86,
      "metadata": {},
      "outputs": [
        {
          "data": {
            "text/html": [
              "<style>#sk-container-id-1 {color: black;background-color: white;}#sk-container-id-1 pre{padding: 0;}#sk-container-id-1 div.sk-toggleable {background-color: white;}#sk-container-id-1 label.sk-toggleable__label {cursor: pointer;display: block;width: 100%;margin-bottom: 0;padding: 0.3em;box-sizing: border-box;text-align: center;}#sk-container-id-1 label.sk-toggleable__label-arrow:before {content: \"▸\";float: left;margin-right: 0.25em;color: #696969;}#sk-container-id-1 label.sk-toggleable__label-arrow:hover:before {color: black;}#sk-container-id-1 div.sk-estimator:hover label.sk-toggleable__label-arrow:before {color: black;}#sk-container-id-1 div.sk-toggleable__content {max-height: 0;max-width: 0;overflow: hidden;text-align: left;background-color: #f0f8ff;}#sk-container-id-1 div.sk-toggleable__content pre {margin: 0.2em;color: black;border-radius: 0.25em;background-color: #f0f8ff;}#sk-container-id-1 input.sk-toggleable__control:checked~div.sk-toggleable__content {max-height: 200px;max-width: 100%;overflow: auto;}#sk-container-id-1 input.sk-toggleable__control:checked~label.sk-toggleable__label-arrow:before {content: \"▾\";}#sk-container-id-1 div.sk-estimator input.sk-toggleable__control:checked~label.sk-toggleable__label {background-color: #d4ebff;}#sk-container-id-1 div.sk-label input.sk-toggleable__control:checked~label.sk-toggleable__label {background-color: #d4ebff;}#sk-container-id-1 input.sk-hidden--visually {border: 0;clip: rect(1px 1px 1px 1px);clip: rect(1px, 1px, 1px, 1px);height: 1px;margin: -1px;overflow: hidden;padding: 0;position: absolute;width: 1px;}#sk-container-id-1 div.sk-estimator {font-family: monospace;background-color: #f0f8ff;border: 1px dotted black;border-radius: 0.25em;box-sizing: border-box;margin-bottom: 0.5em;}#sk-container-id-1 div.sk-estimator:hover {background-color: #d4ebff;}#sk-container-id-1 div.sk-parallel-item::after {content: \"\";width: 100%;border-bottom: 1px solid gray;flex-grow: 1;}#sk-container-id-1 div.sk-label:hover label.sk-toggleable__label {background-color: #d4ebff;}#sk-container-id-1 div.sk-serial::before {content: \"\";position: absolute;border-left: 1px solid gray;box-sizing: border-box;top: 0;bottom: 0;left: 50%;z-index: 0;}#sk-container-id-1 div.sk-serial {display: flex;flex-direction: column;align-items: center;background-color: white;padding-right: 0.2em;padding-left: 0.2em;position: relative;}#sk-container-id-1 div.sk-item {position: relative;z-index: 1;}#sk-container-id-1 div.sk-parallel {display: flex;align-items: stretch;justify-content: center;background-color: white;position: relative;}#sk-container-id-1 div.sk-item::before, #sk-container-id-1 div.sk-parallel-item::before {content: \"\";position: absolute;border-left: 1px solid gray;box-sizing: border-box;top: 0;bottom: 0;left: 50%;z-index: -1;}#sk-container-id-1 div.sk-parallel-item {display: flex;flex-direction: column;z-index: 1;position: relative;background-color: white;}#sk-container-id-1 div.sk-parallel-item:first-child::after {align-self: flex-end;width: 50%;}#sk-container-id-1 div.sk-parallel-item:last-child::after {align-self: flex-start;width: 50%;}#sk-container-id-1 div.sk-parallel-item:only-child::after {width: 0;}#sk-container-id-1 div.sk-dashed-wrapped {border: 1px dashed gray;margin: 0 0.4em 0.5em 0.4em;box-sizing: border-box;padding-bottom: 0.4em;background-color: white;}#sk-container-id-1 div.sk-label label {font-family: monospace;font-weight: bold;display: inline-block;line-height: 1.2em;}#sk-container-id-1 div.sk-label-container {text-align: center;}#sk-container-id-1 div.sk-container {/* jupyter's `normalize.less` sets `[hidden] { display: none; }` but bootstrap.min.css set `[hidden] { display: none !important; }` so we also need the `!important` here to be able to override the default hidden behavior on the sphinx rendered scikit-learn.org. See: https://github.com/scikit-learn/scikit-learn/issues/21755 */display: inline-block !important;position: relative;}#sk-container-id-1 div.sk-text-repr-fallback {display: none;}</style><div id=\"sk-container-id-1\" class=\"sk-top-container\"><div class=\"sk-text-repr-fallback\"><pre>LinearRegression()</pre><b>In a Jupyter environment, please rerun this cell to show the HTML representation or trust the notebook. <br />On GitHub, the HTML representation is unable to render, please try loading this page with nbviewer.org.</b></div><div class=\"sk-container\" hidden><div class=\"sk-item\"><div class=\"sk-estimator sk-toggleable\"><input class=\"sk-toggleable__control sk-hidden--visually\" id=\"sk-estimator-id-1\" type=\"checkbox\" checked><label for=\"sk-estimator-id-1\" class=\"sk-toggleable__label sk-toggleable__label-arrow\">LinearRegression</label><div class=\"sk-toggleable__content\"><pre>LinearRegression()</pre></div></div></div></div></div>"
            ],
            "text/plain": [
              "LinearRegression()"
            ]
          },
          "execution_count": 86,
          "metadata": {},
          "output_type": "execute_result"
        }
      ],
      "source": [
        "# import pickle\n",
        "# pickle.dump(reg_lin1,open(\"linearmodel.pkl\",\"wb\"))\n",
        "pickled_model=pickle.load(open('model.pkl','rb'))\n",
        "pickled_model"
      ]
    },
    {
      "cell_type": "markdown",
      "metadata": {
        "id": "N_9x-_CO3vrA"
      },
      "source": [
        "**Conclusion**\n",
        "\n",
        "The conclusion is that Random Forest Algorithm accuracy of 99% "
      ]
    }
  ],
  "metadata": {
    "colab": {
      "collapsed_sections": [],
      "provenance": []
    },
    "kernelspec": {
      "display_name": "Python 3.10.0 (conda)",
      "language": "python",
      "name": "python3"
    },
    "language_info": {
      "codemirror_mode": {
        "name": "ipython",
        "version": 3
      },
      "file_extension": ".py",
      "mimetype": "text/x-python",
      "name": "python",
      "nbconvert_exporter": "python",
      "pygments_lexer": "ipython3",
      "version": "3.10.0"
    },
    "vscode": {
      "interpreter": {
        "hash": "5692f75fe13da12babd1686ae824d08e1bac8b3c4253081cd713b945f8b4d6b0"
      }
    }
  },
  "nbformat": 4,
  "nbformat_minor": 0
}
